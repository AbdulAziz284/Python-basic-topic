{
  "nbformat": 4,
  "nbformat_minor": 0,
  "metadata": {
    "colab": {
      "provenance": [],
      "gpuType": "T4"
    },
    "kernelspec": {
      "name": "python3",
      "display_name": "Python 3"
    },
    "language_info": {
      "name": "python"
    },
    "accelerator": "GPU"
  },
  "cells": [
    {
      "cell_type": "code",
      "source": [
        "#program to find comman elements between two list\n",
        "kj=[1,20,32,15,45,47,31,46,73,19,16,72,89,35]\n",
        "lm=[14,48,81,99,13,43,78,26,41,79,15,40,89,1,73,47]\n",
        "sd=set(kj)\n",
        "ae=set(lm)\n",
        "print(sd.intersection(ae))"
      ],
      "metadata": {
        "colab": {
          "base_uri": "https://localhost:8080/"
        },
        "id": "R3X6SX_pM61v",
        "outputId": "019cb477-290b-4f93-b1ef-2d6152d238cf"
      },
      "execution_count": 6,
      "outputs": [
        {
          "output_type": "stream",
          "name": "stdout",
          "text": [
            "{1, 73, 47, 15, 89}\n"
          ]
        }
      ]
    },
    {
      "cell_type": "code",
      "source": [
        "#program to captlize first letter in a word\n",
        "sb='fixed'\n",
        "sb.capitalize()"
      ],
      "metadata": {
        "colab": {
          "base_uri": "https://localhost:8080/",
          "height": 36
        },
        "id": "vlrtglfrXDox",
        "outputId": "29d362b4-3cdc-4eff-ba72-0b8e4b1ecc62"
      },
      "execution_count": 8,
      "outputs": [
        {
          "output_type": "execute_result",
          "data": {
            "text/plain": [
              "'Fixed'"
            ],
            "application/vnd.google.colaboratory.intrinsic+json": {
              "type": "string"
            }
          },
          "metadata": {},
          "execution_count": 8
        }
      ]
    },
    {
      "cell_type": "code",
      "source": [
        "#find the length longest word in given sentence\n",
        "mac='this thing is getting out of our hands'\n",
        "longest = max(mac.split(), key=len)\n",
        "len(longest)"
      ],
      "metadata": {
        "colab": {
          "base_uri": "https://localhost:8080/"
        },
        "id": "iYDcowFAYkTx",
        "outputId": "1ee768ed-2859-4633-9553-cb1a1c83de8e"
      },
      "execution_count": 20,
      "outputs": [
        {
          "output_type": "execute_result",
          "data": {
            "text/plain": [
              "7"
            ]
          },
          "metadata": {},
          "execution_count": 20
        }
      ]
    },
    {
      "cell_type": "code",
      "source": [
        "#check if a list is empty or not\n",
        "ow=[1,2,3,4,5,6,7,8,9]\n",
        "if len(ow)==0:\n",
        "    print('list is empty')\n",
        "else:\n",
        "    print('list is not empty')"
      ],
      "metadata": {
        "colab": {
          "base_uri": "https://localhost:8080/"
        },
        "id": "oSevvsLEY6GH",
        "outputId": "029867a8-8499-463b-9046-670f50f17e73"
      },
      "execution_count": 22,
      "outputs": [
        {
          "output_type": "stream",
          "name": "stdout",
          "text": [
            "list is not empty\n"
          ]
        }
      ]
    },
    {
      "cell_type": "code",
      "source": [
        "#calculate the square root of a given number\n",
        "res= 2**0.5\n",
        "print(res)"
      ],
      "metadata": {
        "colab": {
          "base_uri": "https://localhost:8080/"
        },
        "id": "dctydqBHdJHF",
        "outputId": "fa35432c-878e-4a67-c2a5-cebaf56666e8"
      },
      "execution_count": 25,
      "outputs": [
        {
          "output_type": "stream",
          "name": "stdout",
          "text": [
            "1.4142135623730951\n"
          ]
        }
      ]
    },
    {
      "cell_type": "code",
      "source": [
        "#find the maximum number in list\n",
        "kj=[1,20,32,15,45,47,89,46,73,19,16,72,7,35]\n",
        "max(kj)"
      ],
      "metadata": {
        "colab": {
          "base_uri": "https://localhost:8080/"
        },
        "id": "1yQnC6dqearp",
        "outputId": "85bcec3f-2d18-4d6b-cb7a-2b92a89805f2"
      },
      "execution_count": 27,
      "outputs": [
        {
          "output_type": "execute_result",
          "data": {
            "text/plain": [
              "89"
            ]
          },
          "metadata": {},
          "execution_count": 27
        }
      ]
    },
    {
      "cell_type": "code",
      "source": [
        "#replace the all occurance character in a string\n",
        "th='I will be in the room in 10 minute.so better be in time and come in quicky'\n",
        "th.replace('in','at')"
      ],
      "metadata": {
        "colab": {
          "base_uri": "https://localhost:8080/",
          "height": 36
        },
        "id": "Jh96sxCweu7M",
        "outputId": "e24743a3-ec8d-4685-d2a0-118b764ac840"
      },
      "execution_count": 31,
      "outputs": [
        {
          "output_type": "execute_result",
          "data": {
            "text/plain": [
              "'I will be at the room at 10 matute.so better be at time and come at quicky'"
            ],
            "application/vnd.google.colaboratory.intrinsic+json": {
              "type": "string"
            }
          },
          "metadata": {},
          "execution_count": 31
        }
      ]
    },
    {
      "cell_type": "code",
      "source": [],
      "metadata": {
        "id": "MivMF1l9gEK-"
      },
      "execution_count": null,
      "outputs": []
    }
  ]
}