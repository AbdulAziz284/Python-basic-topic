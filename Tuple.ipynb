{
  "nbformat": 4,
  "nbformat_minor": 0,
  "metadata": {
    "colab": {
      "provenance": [],
      "gpuType": "T4"
    },
    "kernelspec": {
      "name": "python3",
      "display_name": "Python 3"
    },
    "language_info": {
      "name": "python"
    },
    "accelerator": "GPU"
  },
  "cells": [
    {
      "cell_type": "markdown",
      "source": [
        "#Tuple:\n",
        "Python Tuple is a collection of objects separated by commas. In some ways, a tuple is similar to a Python list in terms of indexing, nested objects, and repetition but the main difference between both is Python tuple is immutable, unlike the Python list which is mutable.Create Tuples using Round Brackets ().Tuples are used to store multiple items in a single variable.Tuple is one of 4 built-in data types in Python used to store collections of data, the other 3 are List, Set, and Dictionary, all with different qualities and usage.A tuple is a collection which is ordered and unchangeable.Once a tuple is created, you cannot change its values. Tuples are unchangeable, or immutable as it also is called. But there is a workaround."
      ],
      "metadata": {
        "id": "msq8JRDngr2h"
      }
    },
    {
      "cell_type": "code",
      "source": [
        "#tuple examples\n",
        "lk=(1,2,3,4,5,6,7)\n",
        "print(type(lk))"
      ],
      "metadata": {
        "id": "jTeINzu3mKXy",
        "outputId": "4820c058-8561-4b00-c733-f6af7ce727c7",
        "colab": {
          "base_uri": "https://localhost:8080/"
        }
      },
      "execution_count": null,
      "outputs": [
        {
          "output_type": "stream",
          "name": "stdout",
          "text": [
            "<class 'tuple'>\n"
          ]
        }
      ]
    },
    {
      "cell_type": "code",
      "source": [
        "lm=(1,2.4,6+4j,\"Abdul\",True)\n",
        "print(type(lm))"
      ],
      "metadata": {
        "id": "OxABogyupKbq",
        "colab": {
          "base_uri": "https://localhost:8080/"
        },
        "outputId": "7d7289c8-9029-470d-e33a-4f0446a2a03b"
      },
      "execution_count": null,
      "outputs": [
        {
          "output_type": "stream",
          "name": "stdout",
          "text": [
            "<class 'tuple'>\n"
          ]
        }
      ]
    },
    {
      "cell_type": "code",
      "source": [
        "mh=(1,2,65,24,25)\n",
        "print(type(mh))"
      ],
      "metadata": {
        "colab": {
          "base_uri": "https://localhost:8080/"
        },
        "id": "mr636HquyHI5",
        "outputId": "94a36310-8563-4980-b17b-4ad674cea3da"
      },
      "execution_count": null,
      "outputs": [
        {
          "output_type": "stream",
          "name": "stdout",
          "text": [
            "<class 'tuple'>\n"
          ]
        }
      ]
    },
    {
      "cell_type": "code",
      "source": [
        "ok=(22,3.56,23.5,12.2,62,1.1)\n",
        "print(type(ok))"
      ],
      "metadata": {
        "colab": {
          "base_uri": "https://localhost:8080/"
        },
        "id": "bLyw51tdySAY",
        "outputId": "f95d8daf-e98c-4001-bd4d-4e72b08d59f3"
      },
      "execution_count": null,
      "outputs": [
        {
          "output_type": "stream",
          "name": "stdout",
          "text": [
            "<class 'tuple'>\n"
          ]
        }
      ]
    },
    {
      "cell_type": "code",
      "source": [
        "sk=(2,3,4,5,6,4+6j,\"Abdul\")\n",
        "print(type(sk))"
      ],
      "metadata": {
        "colab": {
          "base_uri": "https://localhost:8080/"
        },
        "id": "sJmjSBaqyipw",
        "outputId": "85a9253c-4039-4b0b-bc2a-53b0d65964ec"
      },
      "execution_count": null,
      "outputs": [
        {
          "output_type": "stream",
          "name": "stdout",
          "text": [
            "<class 'tuple'>\n"
          ]
        }
      ]
    },
    {
      "cell_type": "code",
      "source": [
        "KS=(\"ala\",1,84,63.4)\n",
        "print(type(KS))"
      ],
      "metadata": {
        "colab": {
          "base_uri": "https://localhost:8080/"
        },
        "id": "iww-PV5zzByW",
        "outputId": "94647c5e-f6a7-451a-8868-444a06023cb8"
      },
      "execution_count": null,
      "outputs": [
        {
          "output_type": "stream",
          "name": "stdout",
          "text": [
            "<class 'tuple'>\n"
          ]
        }
      ]
    },
    {
      "cell_type": "code",
      "source": [
        "fj=(46,50.54,\"ASwe\")\n",
        "print(type(fj))"
      ],
      "metadata": {
        "colab": {
          "base_uri": "https://localhost:8080/"
        },
        "id": "UZeDtwH4zIA7",
        "outputId": "f98812c9-f45d-4d8e-deb2-b3271724c7e4"
      },
      "execution_count": null,
      "outputs": [
        {
          "output_type": "stream",
          "name": "stdout",
          "text": [
            "<class 'tuple'>\n"
          ]
        }
      ]
    },
    {
      "cell_type": "code",
      "source": [
        "ms=(True,False,False,True)\n",
        "print(type(ms))"
      ],
      "metadata": {
        "colab": {
          "base_uri": "https://localhost:8080/"
        },
        "id": "pvjNUSmAzVIo",
        "outputId": "c985fad5-6453-486a-aefb-5630cb0706e7"
      },
      "execution_count": null,
      "outputs": [
        {
          "output_type": "stream",
          "name": "stdout",
          "text": [
            "<class 'tuple'>\n"
          ]
        }
      ]
    },
    {
      "cell_type": "code",
      "source": [
        "ss=(82+4j,7+4j,5+5j)\n",
        "print(type(ss))"
      ],
      "metadata": {
        "colab": {
          "base_uri": "https://localhost:8080/"
        },
        "id": "CzBFnBUVzbeV",
        "outputId": "ca41dd86-4d01-434a-e720-032c7369698b"
      },
      "execution_count": null,
      "outputs": [
        {
          "output_type": "stream",
          "name": "stdout",
          "text": [
            "<class 'tuple'>\n"
          ]
        }
      ]
    },
    {
      "cell_type": "code",
      "source": [
        "zh=(\"akasm\",\"kasnm\",\"ajsn\",\"kasn\")\n",
        "print(type(zh))"
      ],
      "metadata": {
        "colab": {
          "base_uri": "https://localhost:8080/"
        },
        "id": "KqP8ppeizkgE",
        "outputId": "67f8101a-75c1-4be4-a4ea-6930735dfae1"
      },
      "execution_count": null,
      "outputs": [
        {
          "output_type": "stream",
          "name": "stdout",
          "text": [
            "<class 'tuple'>\n"
          ]
        }
      ]
    },
    {
      "cell_type": "code",
      "source": [
        "#accessing the elements from the tuple\n",
        "#using indexing\n",
        "#positive indexing\n",
        "pa=(12,35,65,11.25,26.4,46.25,4+6j,65+4j,35+7j,\"Abdul\",\"AY\",\"DK\",True,False,True)\n",
        "pa[14]"
      ],
      "metadata": {
        "colab": {
          "base_uri": "https://localhost:8080/"
        },
        "id": "VNkxf5fiztaL",
        "outputId": "687bff14-6abd-487d-90ed-ec2b39e829ce"
      },
      "execution_count": null,
      "outputs": [
        {
          "output_type": "execute_result",
          "data": {
            "text/plain": [
              "True"
            ]
          },
          "metadata": {},
          "execution_count": 18
        }
      ]
    },
    {
      "cell_type": "code",
      "source": [
        "pa[2]"
      ],
      "metadata": {
        "colab": {
          "base_uri": "https://localhost:8080/"
        },
        "id": "E_QwKt1K0ejW",
        "outputId": "d0e07352-c185-4b70-9a78-1e92d078441c"
      },
      "execution_count": null,
      "outputs": [
        {
          "output_type": "execute_result",
          "data": {
            "text/plain": [
              "65"
            ]
          },
          "metadata": {},
          "execution_count": 19
        }
      ]
    },
    {
      "cell_type": "code",
      "source": [
        "pa[7]"
      ],
      "metadata": {
        "colab": {
          "base_uri": "https://localhost:8080/"
        },
        "id": "EDKZnpaK0hL2",
        "outputId": "ccb4a4c3-e70b-411c-9d38-0cd613c48b86"
      },
      "execution_count": null,
      "outputs": [
        {
          "output_type": "execute_result",
          "data": {
            "text/plain": [
              "(65+4j)"
            ]
          },
          "metadata": {},
          "execution_count": 20
        }
      ]
    },
    {
      "cell_type": "code",
      "source": [
        "pa[9]"
      ],
      "metadata": {
        "colab": {
          "base_uri": "https://localhost:8080/",
          "height": 36
        },
        "id": "_TJ9O6xn0kjA",
        "outputId": "89010023-5268-43b8-be56-9decc60c6f56"
      },
      "execution_count": null,
      "outputs": [
        {
          "output_type": "execute_result",
          "data": {
            "text/plain": [
              "'Abdul'"
            ],
            "application/vnd.google.colaboratory.intrinsic+json": {
              "type": "string"
            }
          },
          "metadata": {},
          "execution_count": 22
        }
      ]
    },
    {
      "cell_type": "code",
      "source": [
        "pa[5]"
      ],
      "metadata": {
        "colab": {
          "base_uri": "https://localhost:8080/"
        },
        "id": "dvX-mc7H0l3b",
        "outputId": "67a91c8a-549e-40a6-ac07-e8af84736a13"
      },
      "execution_count": null,
      "outputs": [
        {
          "output_type": "execute_result",
          "data": {
            "text/plain": [
              "46.25"
            ]
          },
          "metadata": {},
          "execution_count": 23
        }
      ]
    },
    {
      "cell_type": "code",
      "source": [
        "#Negative indexing\n",
        "lap=(1,2,3,4.5,5.6,9.4,True,False,54.54,78.143,45,65,\"Qabar\",\"al\")\n",
        "lap[-1]"
      ],
      "metadata": {
        "colab": {
          "base_uri": "https://localhost:8080/",
          "height": 36
        },
        "id": "IJrTFaIP0rxH",
        "outputId": "c1fa59eb-3801-42cd-f7b8-c33ee80bf105"
      },
      "execution_count": null,
      "outputs": [
        {
          "output_type": "execute_result",
          "data": {
            "text/plain": [
              "'al'"
            ],
            "application/vnd.google.colaboratory.intrinsic+json": {
              "type": "string"
            }
          },
          "metadata": {},
          "execution_count": 24
        }
      ]
    },
    {
      "cell_type": "code",
      "source": [
        "lap[-9]"
      ],
      "metadata": {
        "colab": {
          "base_uri": "https://localhost:8080/"
        },
        "id": "WIL7fHGS1Av3",
        "outputId": "e39aec49-34e0-46a8-fdc6-f29dc61b2014"
      },
      "execution_count": null,
      "outputs": [
        {
          "output_type": "execute_result",
          "data": {
            "text/plain": [
              "9.4"
            ]
          },
          "metadata": {},
          "execution_count": 25
        }
      ]
    },
    {
      "cell_type": "code",
      "source": [
        "lap[-13]"
      ],
      "metadata": {
        "colab": {
          "base_uri": "https://localhost:8080/"
        },
        "id": "ATpPnDv61GWL",
        "outputId": "9b191a0f-562e-4e2f-a590-5d6d2a1ee859"
      },
      "execution_count": null,
      "outputs": [
        {
          "output_type": "execute_result",
          "data": {
            "text/plain": [
              "2"
            ]
          },
          "metadata": {},
          "execution_count": 26
        }
      ]
    },
    {
      "cell_type": "code",
      "source": [
        "lap[-5]"
      ],
      "metadata": {
        "colab": {
          "base_uri": "https://localhost:8080/"
        },
        "id": "E9oj5mgi1Jtw",
        "outputId": "abbd9cca-9765-4184-b59c-7f703d7fb1fa"
      },
      "execution_count": null,
      "outputs": [
        {
          "output_type": "execute_result",
          "data": {
            "text/plain": [
              "78.143"
            ]
          },
          "metadata": {},
          "execution_count": 27
        }
      ]
    },
    {
      "cell_type": "code",
      "source": [
        "lap[-7]"
      ],
      "metadata": {
        "colab": {
          "base_uri": "https://localhost:8080/"
        },
        "id": "r1H7QZDN1MOW",
        "outputId": "396123c9-3780-4500-9930-0330c12e0c1e"
      },
      "execution_count": null,
      "outputs": [
        {
          "output_type": "execute_result",
          "data": {
            "text/plain": [
              "False"
            ]
          },
          "metadata": {},
          "execution_count": 28
        }
      ]
    },
    {
      "cell_type": "code",
      "source": [
        "#slicing positive\n",
        "kat=(1,32,2,123,2,0.1,35)\n",
        "kat[0:4]"
      ],
      "metadata": {
        "colab": {
          "base_uri": "https://localhost:8080/"
        },
        "id": "RiT2XWLZ1PF0",
        "outputId": "2dfb7a1e-5733-4a2f-b4e1-58450c3ca54a"
      },
      "execution_count": null,
      "outputs": [
        {
          "output_type": "execute_result",
          "data": {
            "text/plain": [
              "(1, 32, 2, 123)"
            ]
          },
          "metadata": {},
          "execution_count": 36
        }
      ]
    },
    {
      "cell_type": "code",
      "source": [
        "oa=(54,3.27,54,54.44,76)\n",
        "oa[0:3]"
      ],
      "metadata": {
        "colab": {
          "base_uri": "https://localhost:8080/"
        },
        "id": "yZTc2rxw1ZSG",
        "outputId": "b87a8664-20cd-44b0-9685-b7cd2dcd955a"
      },
      "execution_count": null,
      "outputs": [
        {
          "output_type": "execute_result",
          "data": {
            "text/plain": [
              "(54, 3.27, 54)"
            ]
          },
          "metadata": {},
          "execution_count": 30
        }
      ]
    },
    {
      "cell_type": "code",
      "source": [
        "ks=(\"ask\",\"kdm\",\"asm\",\"wsj\")\n",
        "ks[:3]"
      ],
      "metadata": {
        "colab": {
          "base_uri": "https://localhost:8080/"
        },
        "id": "ttgreMOc1hdC",
        "outputId": "961d76d1-1393-48d2-8cdb-b188ed2b5728"
      },
      "execution_count": null,
      "outputs": [
        {
          "output_type": "execute_result",
          "data": {
            "text/plain": [
              "('ask', 'kdm', 'asm')"
            ]
          },
          "metadata": {},
          "execution_count": 35
        }
      ]
    },
    {
      "cell_type": "code",
      "source": [
        "jcn=(\"jshd\",\"jsjhs\",\"wsjh\",True,False,)\n",
        "jcn[:]"
      ],
      "metadata": {
        "colab": {
          "base_uri": "https://localhost:8080/"
        },
        "id": "RJjupWbj10EA",
        "outputId": "da86dab3-dd75-4e6e-8500-c64fc8b5f99b"
      },
      "execution_count": null,
      "outputs": [
        {
          "output_type": "execute_result",
          "data": {
            "text/plain": [
              "('jshd', 'jsjhs', 'wsjh', True, False)"
            ]
          },
          "metadata": {},
          "execution_count": 33
        }
      ]
    },
    {
      "cell_type": "code",
      "source": [
        "dgf=(13,654,65.44,46,854)\n",
        "dgf[0:]"
      ],
      "metadata": {
        "colab": {
          "base_uri": "https://localhost:8080/"
        },
        "id": "d19izilw2D6u",
        "outputId": "0fbcbc0c-829d-4cc6-f41c-28d25571ad2f"
      },
      "execution_count": null,
      "outputs": [
        {
          "output_type": "execute_result",
          "data": {
            "text/plain": [
              "(13, 654, 65.44, 46, 854)"
            ]
          },
          "metadata": {},
          "execution_count": 34
        }
      ]
    },
    {
      "cell_type": "code",
      "source": [
        "#slicing Negative\n",
        "lak=(12,54.4,76,23,56,54)\n",
        "lak[-6:-1]"
      ],
      "metadata": {
        "colab": {
          "base_uri": "https://localhost:8080/"
        },
        "id": "lf8F5rlF2Sd9",
        "outputId": "b6f898f4-6a15-4f2f-f861-c482c56c5bf4"
      },
      "execution_count": null,
      "outputs": [
        {
          "output_type": "execute_result",
          "data": {
            "text/plain": [
              "(12, 54.4, 76, 23, 56)"
            ]
          },
          "metadata": {},
          "execution_count": 37
        }
      ]
    },
    {
      "cell_type": "code",
      "source": [
        "lak[-5:-2]"
      ],
      "metadata": {
        "colab": {
          "base_uri": "https://localhost:8080/"
        },
        "id": "1cedGJNA2n5C",
        "outputId": "9652877e-20cc-44e8-85b2-1adfa033b79b"
      },
      "execution_count": null,
      "outputs": [
        {
          "output_type": "execute_result",
          "data": {
            "text/plain": [
              "(54.4, 76, 23)"
            ]
          },
          "metadata": {},
          "execution_count": 38
        }
      ]
    },
    {
      "cell_type": "code",
      "source": [
        "lak[-6:-5]"
      ],
      "metadata": {
        "colab": {
          "base_uri": "https://localhost:8080/"
        },
        "id": "dUoY1OxI23tG",
        "outputId": "355fa8cc-c1f0-465a-ae9e-9651373bf3c3"
      },
      "execution_count": null,
      "outputs": [
        {
          "output_type": "execute_result",
          "data": {
            "text/plain": [
              "(12,)"
            ]
          },
          "metadata": {},
          "execution_count": 41
        }
      ]
    },
    {
      "cell_type": "code",
      "source": [
        "uw=(51,85,64,54,25,40,27)\n",
        "uw[-5:-1]"
      ],
      "metadata": {
        "colab": {
          "base_uri": "https://localhost:8080/"
        },
        "id": "S3JZRzZM27Yd",
        "outputId": "69600879-7b7e-4337-d18f-ff29ad438a2b"
      },
      "execution_count": null,
      "outputs": [
        {
          "output_type": "execute_result",
          "data": {
            "text/plain": [
              "(64, 54, 25, 40)"
            ]
          },
          "metadata": {},
          "execution_count": 42
        }
      ]
    },
    {
      "cell_type": "code",
      "source": [
        "uw[-6:-4]"
      ],
      "metadata": {
        "colab": {
          "base_uri": "https://localhost:8080/"
        },
        "id": "0GqxLT5T3RLZ",
        "outputId": "9cb1ec02-722c-42de-e7f4-0e7f08437dac"
      },
      "execution_count": null,
      "outputs": [
        {
          "output_type": "execute_result",
          "data": {
            "text/plain": [
              "(85, 64)"
            ]
          },
          "metadata": {},
          "execution_count": 43
        }
      ]
    },
    {
      "cell_type": "code",
      "source": [
        "#immutable\n",
        "ks=(12,15.44,\"aqw\",True,6+5j)\n",
        "ks(2)==\"sjsk\""
      ],
      "metadata": {
        "id": "pKTjNkaO3XdO",
        "colab": {
          "base_uri": "https://localhost:8080/",
          "height": 176
        },
        "outputId": "39e0e0c0-e9b1-413e-da76-b26e058d7cbc"
      },
      "execution_count": 7,
      "outputs": [
        {
          "output_type": "error",
          "ename": "TypeError",
          "evalue": "'tuple' object is not callable",
          "traceback": [
            "\u001b[0;31m---------------------------------------------------------------------------\u001b[0m",
            "\u001b[0;31mTypeError\u001b[0m                                 Traceback (most recent call last)",
            "\u001b[0;32m<ipython-input-7-16f66fe853fa>\u001b[0m in \u001b[0;36m<cell line: 3>\u001b[0;34m()\u001b[0m\n\u001b[1;32m      1\u001b[0m \u001b[0;31m#immutable\u001b[0m\u001b[0;34m\u001b[0m\u001b[0;34m\u001b[0m\u001b[0m\n\u001b[1;32m      2\u001b[0m \u001b[0mks\u001b[0m\u001b[0;34m=\u001b[0m\u001b[0;34m(\u001b[0m\u001b[0;36m12\u001b[0m\u001b[0;34m,\u001b[0m\u001b[0;36m15.44\u001b[0m\u001b[0;34m,\u001b[0m\u001b[0;34m\"aqw\"\u001b[0m\u001b[0;34m,\u001b[0m\u001b[0;32mTrue\u001b[0m\u001b[0;34m,\u001b[0m\u001b[0;36m6\u001b[0m\u001b[0;34m+\u001b[0m\u001b[0;36m5j\u001b[0m\u001b[0;34m)\u001b[0m\u001b[0;34m\u001b[0m\u001b[0;34m\u001b[0m\u001b[0m\n\u001b[0;32m----> 3\u001b[0;31m \u001b[0mks\u001b[0m\u001b[0;34m(\u001b[0m\u001b[0;36m2\u001b[0m\u001b[0;34m)\u001b[0m\u001b[0;34m==\u001b[0m\u001b[0;34m\"sjsk\"\u001b[0m\u001b[0;34m\u001b[0m\u001b[0;34m\u001b[0m\u001b[0m\n\u001b[0m",
            "\u001b[0;31mTypeError\u001b[0m: 'tuple' object is not callable"
          ]
        }
      ]
    },
    {
      "cell_type": "markdown",
      "source": [
        "#Functions and Methods of Tuple\n",
        "count(x): Returns the number of times x appears in the tuple\n",
        "\n",
        "index(x[, start[, end]]): Returns the index of the first occurrence of x in the tuple. Raises a ValueError if x is not found. You can also specify a range using start and end\n",
        "\n",
        "\n",
        "len(): Returns the number of elements in a tuple.\n",
        "\n",
        "max(): Returns the largest item in the tuple\n",
        "\n",
        "min(): Returns the smallest item in the tuple\n",
        "\n",
        "sum(): Returns the sum of all items in the tuple (if they are numeric)."
      ],
      "metadata": {
        "id": "ZTr9i3bDAyKD"
      }
    },
    {
      "cell_type": "code",
      "source": [
        "#count\n",
        "df=(12,35,56,79,46,15,12,46,35,89,46,54)\n",
        "df.count(46)"
      ],
      "metadata": {
        "id": "4j3RSc1TB4-2",
        "outputId": "59eb1017-eccc-4aec-9535-de61514f04f0",
        "colab": {
          "base_uri": "https://localhost:8080/"
        }
      },
      "execution_count": 8,
      "outputs": [
        {
          "output_type": "execute_result",
          "data": {
            "text/plain": [
              "3"
            ]
          },
          "metadata": {},
          "execution_count": 8
        }
      ]
    },
    {
      "cell_type": "code",
      "source": [
        "#index\n",
        "df=(12,35,56,79,46,15,12,46,35,89,46,54)\n",
        "df.index(46)"
      ],
      "metadata": {
        "id": "-j-_8xc_CXzD",
        "outputId": "fbc6095f-3f56-45cd-d94e-d6982cbf3c70",
        "colab": {
          "base_uri": "https://localhost:8080/"
        }
      },
      "execution_count": 11,
      "outputs": [
        {
          "output_type": "execute_result",
          "data": {
            "text/plain": [
              "4"
            ]
          },
          "metadata": {},
          "execution_count": 11
        }
      ]
    },
    {
      "cell_type": "code",
      "source": [
        "#len\n",
        "df=(12,35,56,79,46,15,12,46,35,89,46,54)\n",
        "len(df)"
      ],
      "metadata": {
        "id": "dtTmwbUpC9ZD",
        "outputId": "55a32da4-6e5b-4318-9df1-f5d3e42c1528",
        "colab": {
          "base_uri": "https://localhost:8080/"
        }
      },
      "execution_count": 12,
      "outputs": [
        {
          "output_type": "execute_result",
          "data": {
            "text/plain": [
              "12"
            ]
          },
          "metadata": {},
          "execution_count": 12
        }
      ]
    },
    {
      "cell_type": "code",
      "source": [
        "#max\n",
        "df=(12,35,56,79,46,15,12,46,35,89,46,54)\n",
        "max(df)"
      ],
      "metadata": {
        "id": "YbnQpLFvEIBf",
        "outputId": "b3a9bbb5-ed73-44cd-d7d8-6e729d4da06a",
        "colab": {
          "base_uri": "https://localhost:8080/"
        }
      },
      "execution_count": 13,
      "outputs": [
        {
          "output_type": "execute_result",
          "data": {
            "text/plain": [
              "89"
            ]
          },
          "metadata": {},
          "execution_count": 13
        }
      ]
    },
    {
      "cell_type": "code",
      "source": [
        "#min\n",
        "df=(12,35,56,79,46,15,12,46,35,89,46,54)\n",
        "min(df)\n"
      ],
      "metadata": {
        "id": "zkEZx6sUELJf",
        "outputId": "a9e1ebcc-70ee-4989-8503-36d2f23f8b8d",
        "colab": {
          "base_uri": "https://localhost:8080/"
        }
      },
      "execution_count": 14,
      "outputs": [
        {
          "output_type": "execute_result",
          "data": {
            "text/plain": [
              "12"
            ]
          },
          "metadata": {},
          "execution_count": 14
        }
      ]
    },
    {
      "cell_type": "code",
      "source": [
        "#sum\n",
        "df=(12,35,56,79,46,15,12,46,35,89,46,54)\n",
        "sum(df)\n"
      ],
      "metadata": {
        "id": "0nc6hjzzEsCA",
        "outputId": "71f0462a-5fd6-4838-bc5d-00f3dbcd8dcc",
        "colab": {
          "base_uri": "https://localhost:8080/"
        }
      },
      "execution_count": 15,
      "outputs": [
        {
          "output_type": "execute_result",
          "data": {
            "text/plain": [
              "525"
            ]
          },
          "metadata": {},
          "execution_count": 15
        }
      ]
    },
    {
      "cell_type": "code",
      "source": [],
      "metadata": {
        "id": "n8R2n3k0E01P"
      },
      "execution_count": null,
      "outputs": []
    }
  ]
}