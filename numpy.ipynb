{
  "nbformat": 4,
  "nbformat_minor": 0,
  "metadata": {
    "colab": {
      "provenance": []
    },
    "kernelspec": {
      "name": "python3",
      "display_name": "Python 3"
    },
    "language_info": {
      "name": "python"
    }
  },
  "cells": [
    {
      "cell_type": "markdown",
      "source": [
        "#Numpy"
      ],
      "metadata": {
        "id": "IpBr2T3GEAe8"
      }
    },
    {
      "cell_type": "markdown",
      "source": [
        "* Numpy is a general-purpose array-processing package.\n",
        "* It provides a high-performance multidimensional array object, and tools for working with these arrays.\n",
        "* It is the fundamental package for scientific computing with Python.\n",
        "* Array in Numpy is a table of elements (usually numbers), all of the same type, indexed by a tuple of positive integers.\n",
        "* In Numpy, number of dimensions of the array is called rank of the array."
      ],
      "metadata": {
        "id": "yI7JB5LMEAt2"
      }
    },
    {
      "cell_type": "code",
      "execution_count": 2,
      "metadata": {
        "colab": {
          "base_uri": "https://localhost:8080/"
        },
        "id": "4PscNIUlDo0d",
        "outputId": "e9559985-2efe-4ab7-ef86-281bf4b33fb6"
      },
      "outputs": [
        {
          "output_type": "stream",
          "name": "stdout",
          "text": [
            "Requirement already satisfied: numpy in /usr/local/lib/python3.10/dist-packages (1.26.4)\n"
          ]
        }
      ],
      "source": [
        "# installation of numpy\n",
        "!pip install numpy\n"
      ]
    },
    {
      "cell_type": "code",
      "source": [
        "#Importing NumPy\n",
        "import numpy as np"
      ],
      "metadata": {
        "id": "Suc_WuCBGrKn"
      },
      "execution_count": 3,
      "outputs": []
    },
    {
      "cell_type": "code",
      "source": [
        "#Creating Arrays\n",
        "nj = np.array([1, 2, 3, 4,5])\n",
        "print(nj)\n"
      ],
      "metadata": {
        "colab": {
          "base_uri": "https://localhost:8080/"
        },
        "id": "vNJaEZTzGzyB",
        "outputId": "4f3d4474-76eb-457a-c549-a69c612d0628"
      },
      "execution_count": 4,
      "outputs": [
        {
          "output_type": "stream",
          "name": "stdout",
          "text": [
            "[1 2 3 4 5]\n"
          ]
        }
      ]
    },
    {
      "cell_type": "code",
      "source": [
        "js=np.array([44,54,57,27])\n",
        "print(js)"
      ],
      "metadata": {
        "colab": {
          "base_uri": "https://localhost:8080/"
        },
        "id": "nBnlvxRDHb1d",
        "outputId": "732431c2-a449-44e6-8c60-512be0e28e2b"
      },
      "execution_count": 5,
      "outputs": [
        {
          "output_type": "stream",
          "name": "stdout",
          "text": [
            "[44 54 57 27]\n"
          ]
        }
      ]
    },
    {
      "cell_type": "code",
      "source": [
        "#One-Dimensional\n",
        "dk= np.array([1, 2, 3])\n",
        "print(dk)"
      ],
      "metadata": {
        "colab": {
          "base_uri": "https://localhost:8080/"
        },
        "id": "3GZIHGOKHvzY",
        "outputId": "bcad8643-209a-48e6-ccde-f682ec84e301"
      },
      "execution_count": 7,
      "outputs": [
        {
          "output_type": "stream",
          "name": "stdout",
          "text": [
            "[1 2 3]\n"
          ]
        }
      ]
    },
    {
      "cell_type": "code",
      "source": [
        "#Two-Dimensional\n",
        "ya= np.array([[1, 2, 3], [4, 5, 6]])\n",
        "print(ya)"
      ],
      "metadata": {
        "colab": {
          "base_uri": "https://localhost:8080/"
        },
        "id": "8IR6vp3ZIGsX",
        "outputId": "aeb6d49b-fe2c-421e-f072-ad99736c234c"
      },
      "execution_count": 8,
      "outputs": [
        {
          "output_type": "stream",
          "name": "stdout",
          "text": [
            "[[1 2 3]\n",
            " [4 5 6]]\n"
          ]
        }
      ]
    },
    {
      "cell_type": "code",
      "source": [
        "#Three-Dimensional\n",
        "sa= np.array([[[1, 2, 3], [4, 5, 6]], [[1, 2, 3], [4, 5, 6]]])\n",
        "print(sa)"
      ],
      "metadata": {
        "colab": {
          "base_uri": "https://localhost:8080/"
        },
        "id": "RvrXOkTlIgBK",
        "outputId": "aae9c7a5-94c1-44d1-b364-65c6c6089d71"
      },
      "execution_count": 9,
      "outputs": [
        {
          "output_type": "stream",
          "name": "stdout",
          "text": [
            "[[[1 2 3]\n",
            "  [4 5 6]]\n",
            "\n",
            " [[1 2 3]\n",
            "  [4 5 6]]]\n"
          ]
        }
      ]
    },
    {
      "cell_type": "code",
      "source": [
        "#Four-Dimensional\n",
        "ik= np.array([[[[1,6,7], [2,4,3]], [[3,1,9], [4,6,4]]], [[[5,4,7], [6,9,1]], [[7,3,2], [8,7,2]]]])\n",
        "print(ik)"
      ],
      "metadata": {
        "colab": {
          "base_uri": "https://localhost:8080/"
        },
        "id": "qZZ4kwMtIm8x",
        "outputId": "28b04ef8-06ee-41ff-ffc9-01ce9a2d5696"
      },
      "execution_count": 10,
      "outputs": [
        {
          "output_type": "stream",
          "name": "stdout",
          "text": [
            "[[[[1 6 7]\n",
            "   [2 4 3]]\n",
            "\n",
            "  [[3 1 9]\n",
            "   [4 6 4]]]\n",
            "\n",
            "\n",
            " [[[5 4 7]\n",
            "   [6 9 1]]\n",
            "\n",
            "  [[7 3 2]\n",
            "   [8 7 2]]]]\n"
          ]
        }
      ]
    },
    {
      "cell_type": "code",
      "source": [
        "ik.shape"
      ],
      "metadata": {
        "colab": {
          "base_uri": "https://localhost:8080/"
        },
        "id": "tw1Eq202JVdf",
        "outputId": "6c8ef555-4081-41a0-d393-917b3f48d2b3"
      },
      "execution_count": 11,
      "outputs": [
        {
          "output_type": "execute_result",
          "data": {
            "text/plain": [
              "(2, 2, 2, 3)"
            ]
          },
          "metadata": {},
          "execution_count": 11
        }
      ]
    },
    {
      "cell_type": "code",
      "source": [
        "ik.ndim"
      ],
      "metadata": {
        "colab": {
          "base_uri": "https://localhost:8080/"
        },
        "id": "2vV9rj3kJYDm",
        "outputId": "20ef0b2a-0652-452b-bf5d-a2e05aa73795"
      },
      "execution_count": 12,
      "outputs": [
        {
          "output_type": "execute_result",
          "data": {
            "text/plain": [
              "4"
            ]
          },
          "metadata": {},
          "execution_count": 12
        }
      ]
    },
    {
      "cell_type": "code",
      "source": [
        "#Indexing\n",
        "y= np.array([10, 20, 30, 40])\n",
        "y[0]\n"
      ],
      "metadata": {
        "colab": {
          "base_uri": "https://localhost:8080/"
        },
        "id": "8P_jO-rNJjtj",
        "outputId": "d8cf45a9-0063-49f3-93b7-1bcb6e159aba"
      },
      "execution_count": 13,
      "outputs": [
        {
          "output_type": "execute_result",
          "data": {
            "text/plain": [
              "10"
            ]
          },
          "metadata": {},
          "execution_count": 13
        }
      ]
    },
    {
      "cell_type": "code",
      "source": [
        "a= np.array([1, 2, 3,4, 5, 6])\n",
        "a[5]"
      ],
      "metadata": {
        "colab": {
          "base_uri": "https://localhost:8080/"
        },
        "id": "xFbSMIiDJ0cn",
        "outputId": "c225bf69-7b11-4ca7-a396-35c47b12a451"
      },
      "execution_count": 14,
      "outputs": [
        {
          "output_type": "execute_result",
          "data": {
            "text/plain": [
              "6"
            ]
          },
          "metadata": {},
          "execution_count": 14
        }
      ]
    },
    {
      "cell_type": "code",
      "source": [
        "#Slicing\n",
        "lk=np.array([10, 20, 30, 40, 50,70,90])\n",
        "lk[1:5]\n"
      ],
      "metadata": {
        "colab": {
          "base_uri": "https://localhost:8080/"
        },
        "id": "s4vLchLtJ_Aw",
        "outputId": "eac585df-bf2b-42c1-f7bd-09ee3d1ec945"
      },
      "execution_count": 15,
      "outputs": [
        {
          "output_type": "execute_result",
          "data": {
            "text/plain": [
              "array([20, 30, 40, 50])"
            ]
          },
          "metadata": {},
          "execution_count": 15
        }
      ]
    },
    {
      "cell_type": "code",
      "source": [
        "#Slicing with step\n",
        "hj=np.array([10, 20, 30, 40, 50,70,90])\n",
        "hj[1:5:2]"
      ],
      "metadata": {
        "colab": {
          "base_uri": "https://localhost:8080/"
        },
        "id": "S8Mp3o3VKNam",
        "outputId": "ba084e29-448c-4fbe-96f7-3ba828866318"
      },
      "execution_count": 16,
      "outputs": [
        {
          "output_type": "execute_result",
          "data": {
            "text/plain": [
              "array([20, 40])"
            ]
          },
          "metadata": {},
          "execution_count": 16
        }
      ]
    }
  ]
}