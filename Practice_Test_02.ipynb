{
  "nbformat": 4,
  "nbformat_minor": 0,
  "metadata": {
    "colab": {
      "provenance": [],
      "gpuType": "T4"
    },
    "kernelspec": {
      "name": "python3",
      "display_name": "Python 3"
    },
    "language_info": {
      "name": "python"
    },
    "accelerator": "GPU"
  },
  "cells": [
    {
      "cell_type": "code",
      "execution_count": 2,
      "metadata": {
        "colab": {
          "base_uri": "https://localhost:8080/"
        },
        "id": "jTYvcEkQZR4c",
        "outputId": "b6203735-7218-42e8-f490-e1c85ca30162"
      },
      "outputs": [
        {
          "output_type": "stream",
          "name": "stdout",
          "text": [
            "Hello World\n"
          ]
        }
      ],
      "source": [
        "#write a python program to print hello world\n",
        "\n",
        "lmp = \"Hello World\"\n",
        "print(lmp)"
      ]
    },
    {
      "cell_type": "code",
      "source": [
        "#write a python program to calculate sum of numbers\n",
        "\n",
        "numb1 = (1,2,3,4,5,6)\n",
        "numb2 = (4,2,4,5,7,6,4,2)\n",
        "s = numb1 + numb2\n",
        "print(s)"
      ],
      "metadata": {
        "colab": {
          "base_uri": "https://localhost:8080/"
        },
        "id": "EiCxIBYMao0i",
        "outputId": "f1bf66b4-c098-483f-91f8-d40d5ab053c9"
      },
      "execution_count": 3,
      "outputs": [
        {
          "output_type": "stream",
          "name": "stdout",
          "text": [
            "(1, 2, 3, 4, 5, 6, 4, 2, 4, 5, 7, 6, 4, 2)\n"
          ]
        }
      ]
    },
    {
      "cell_type": "code",
      "source": [
        "#create a variables for string a preson name,age and average score\n",
        "\n",
        "Name = \"Abdul\"\n",
        "Age = '21'\n",
        "Avgscore = '74.7'\n",
        "print(Name,Age,Avgscore)"
      ],
      "metadata": {
        "colab": {
          "base_uri": "https://localhost:8080/"
        },
        "id": "kfAlX2JVbUd-",
        "outputId": "9a715715-aeaf-4f30-f300-877ae59ce09c"
      },
      "execution_count": 5,
      "outputs": [
        {
          "output_type": "stream",
          "name": "stdout",
          "text": [
            "Abdul 21 74.7\n"
          ]
        }
      ]
    },
    {
      "cell_type": "code",
      "source": [
        "#write a python program to concatenate two strings\n",
        "\n",
        "za='This is '\n",
        "mk='a string'\n",
        "l=za+mk\n",
        "print(l)"
      ],
      "metadata": {
        "colab": {
          "base_uri": "https://localhost:8080/"
        },
        "id": "f2Q6DWJncrw4",
        "outputId": "9d3a3656-9e4f-4f2a-c928-4424fdd36f5b"
      },
      "execution_count": 7,
      "outputs": [
        {
          "output_type": "stream",
          "name": "stdout",
          "text": [
            "This is a string\n"
          ]
        }
      ]
    },
    {
      "cell_type": "code",
      "source": [
        "#create a list of vegtable and access then index\n",
        "\n",
        "veg=['tomato','potato','carrot','lady finger','beans','green chilly']\n",
        "veg[1]\n",
        "veg[1:7]"
      ],
      "metadata": {
        "colab": {
          "base_uri": "https://localhost:8080/"
        },
        "id": "hz-BMEVLdhFV",
        "outputId": "efef68d2-f64e-424c-d3e3-3fddd369b4cb"
      },
      "execution_count": 10,
      "outputs": [
        {
          "output_type": "execute_result",
          "data": {
            "text/plain": [
              "['potato', 'carrot', 'lady finger', 'beans', 'green chilly']"
            ]
          },
          "metadata": {},
          "execution_count": 10
        }
      ]
    },
    {
      "cell_type": "code",
      "source": [
        "#convert celsius to fahrenheit\n",
        "celsius =35\n",
        "fahrenheit = celsius_to_fahrenheit(celsius)\n",
        "print(f\"{celsius}°C is equal to {fahrenheit}°F\")"
      ],
      "metadata": {
        "colab": {
          "base_uri": "https://localhost:8080/"
        },
        "id": "FObSddqJeK_9",
        "outputId": "549316d4-70cf-44e4-99d2-13f0b0d5c564"
      },
      "execution_count": 15,
      "outputs": [
        {
          "output_type": "stream",
          "name": "stdout",
          "text": [
            "35°C is equal to 95.0°F\n"
          ]
        }
      ]
    },
    {
      "cell_type": "code",
      "source": [
        "#Program to calculate area of rectangle using its length and width\n",
        "length=45\n",
        "width=26\n",
        "area=length*width\n",
        "print(area)"
      ],
      "metadata": {
        "colab": {
          "base_uri": "https://localhost:8080/"
        },
        "id": "fGwn-Y7fe4GW",
        "outputId": "0f7f27ae-f4f2-4a0b-d5dd-a7ccfaa53715"
      },
      "execution_count": 18,
      "outputs": [
        {
          "output_type": "stream",
          "name": "stdout",
          "text": [
            "1170\n"
          ]
        }
      ]
    },
    {
      "cell_type": "code",
      "source": [
        "#create a list with numbers and indentify its maximum number and minimum number\n",
        "hd=[32,45,1,24,3,43,4,22,2,47]\n",
        "print(max(hd))\n",
        "print(min(hd))"
      ],
      "metadata": {
        "colab": {
          "base_uri": "https://localhost:8080/"
        },
        "id": "b8F_6jANgUEL",
        "outputId": "2afe202d-21dd-4e2d-e425-067265f7ef30"
      },
      "execution_count": 19,
      "outputs": [
        {
          "output_type": "stream",
          "name": "stdout",
          "text": [
            "47\n",
            "1\n"
          ]
        }
      ]
    },
    {
      "cell_type": "code",
      "source": [
        "#program to check a number is even or not\n",
        "def is_even(number):\n",
        "    return number % 2 == 0\n",
        "number =20\n",
        "if is_even(number):\n",
        "    print(f\"{number} is even.\")\n",
        "else:\n",
        "    print(f\"{number} is odd.\")"
      ],
      "metadata": {
        "id": "RBn9r3UvhGyd",
        "outputId": "41fef312-043a-429a-f667-f426e93a507d",
        "colab": {
          "base_uri": "https://localhost:8080/"
        }
      },
      "execution_count": 22,
      "outputs": [
        {
          "output_type": "stream",
          "name": "stdout",
          "text": [
            "20 is even.\n"
          ]
        }
      ]
    },
    {
      "cell_type": "code",
      "source": [
        "#program to check if a given string contains only numeric or not\n",
        "pl=('amaj2154')\n",
        "pl.isnumeric()"
      ],
      "metadata": {
        "id": "TcKpFNdBhoyd",
        "outputId": "392c9520-0724-46bc-e492-2211117db8a2",
        "colab": {
          "base_uri": "https://localhost:8080/"
        }
      },
      "execution_count": 23,
      "outputs": [
        {
          "output_type": "execute_result",
          "data": {
            "text/plain": [
              "False"
            ]
          },
          "metadata": {},
          "execution_count": 23
        }
      ]
    },
    {
      "cell_type": "code",
      "source": [],
      "metadata": {
        "id": "akNik2GhiZYW"
      },
      "execution_count": null,
      "outputs": []
    }
  ]
}